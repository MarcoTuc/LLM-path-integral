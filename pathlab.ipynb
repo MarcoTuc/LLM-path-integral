{
 "cells": [
  {
   "cell_type": "code",
   "execution_count": 1,
   "metadata": {},
   "outputs": [],
   "source": [
    "import math\n",
    "import torch\n",
    "import torch.nn.functional as F\n",
    "import llama_cpp\n",
    "\n",
    "import networkx as nx\n",
    "import numpy as np\n",
    "\n",
    "from path import *"
   ]
  },
  {
   "cell_type": "code",
   "execution_count": 29,
   "metadata": {},
   "outputs": [
    {
     "name": "stdout",
     "output_type": "stream",
     "text": [
      "797161.0 797161.0\n"
     ]
    },
    {
     "data": {
      "text/plain": [
       "True"
      ]
     },
     "execution_count": 29,
     "metadata": {},
     "output_type": "execute_result"
    }
   ],
   "source": [
    "def p1(n, k=2):\n",
    "    return sum([k**i for i in range(n+1)])\n",
    "n = 12\n",
    "k = 3\n",
    "print(float(p1(n, k)), (k**(n+1) - 1)/(k-1))\n",
    "float(p1(n, k)) == (k**(n+1) - 1)/(k-1)"
   ]
  },
  {
   "cell_type": "code",
   "execution_count": 2,
   "metadata": {},
   "outputs": [
    {
     "name": "stderr",
     "output_type": "stream",
     "text": [
      "Building graph: 100%|█████████▉| 8190/8191 [04:51<00:00, 28.10it/s]\n",
      "Assigning phrases:   0%|          | 4/1892 [00:39<5:08:16,  9.80s/it]\n"
     ]
    },
    {
     "ename": "KeyboardInterrupt",
     "evalue": "",
     "output_type": "error",
     "traceback": [
      "\u001b[0;31m---------------------------------------------------------------------------\u001b[0m",
      "\u001b[0;31mKeyboardInterrupt\u001b[0m                         Traceback (most recent call last)",
      "Cell \u001b[0;32mIn[2], line 4\u001b[0m\n\u001b[1;32m      2\u001b[0m k \u001b[38;5;241m=\u001b[39m \u001b[38;5;241m2\u001b[39m\n\u001b[1;32m      3\u001b[0m max_depth \u001b[38;5;241m=\u001b[39m \u001b[38;5;241m12\u001b[39m\n\u001b[0;32m----> 4\u001b[0m G \u001b[38;5;241m=\u001b[39m \u001b[43mphrase_graph\u001b[49m\u001b[43m(\u001b[49m\u001b[43mphrase\u001b[49m\u001b[43m,\u001b[49m\u001b[43m \u001b[49m\u001b[43mk\u001b[49m\u001b[43m,\u001b[49m\u001b[43m \u001b[49m\u001b[43mmax_depth\u001b[49m\u001b[43m)\u001b[49m\n",
      "File \u001b[0;32m~/Desktop/Coding/Varcode/EPFL/LLM-path-integral/path.py:99\u001b[0m, in \u001b[0;36mphrase_graph\u001b[0;34m(seed, k, max_depth)\u001b[0m\n\u001b[1;32m     97\u001b[0m     G\u001b[38;5;241m.\u001b[39mnodes[node][\u001b[38;5;124m'\u001b[39m\u001b[38;5;124mphrase\u001b[39m\u001b[38;5;124m'\u001b[39m] \u001b[38;5;241m=\u001b[39m [seed]\n\u001b[1;32m     98\u001b[0m \u001b[38;5;28;01melse\u001b[39;00m:\n\u001b[0;32m---> 99\u001b[0m     paths \u001b[38;5;241m=\u001b[39m \u001b[38;5;28;43mlist\u001b[39;49m\u001b[43m(\u001b[49m\u001b[43mnx\u001b[49m\u001b[38;5;241;43m.\u001b[39;49m\u001b[43mall_simple_paths\u001b[49m\u001b[43m(\u001b[49m\u001b[43mG\u001b[49m\u001b[43m,\u001b[49m\u001b[43m \u001b[49m\u001b[43m(\u001b[49m\u001b[43mseed\u001b[49m\u001b[43m,\u001b[49m\u001b[43m \u001b[49m\u001b[38;5;241;43m0\u001b[39;49m\u001b[43m)\u001b[49m\u001b[43m,\u001b[49m\u001b[43m \u001b[49m\u001b[43mnode\u001b[49m\u001b[43m)\u001b[49m\u001b[43m)\u001b[49m\n\u001b[1;32m    100\u001b[0m     phrases \u001b[38;5;241m=\u001b[39m []\n\u001b[1;32m    101\u001b[0m     \u001b[38;5;28;01mfor\u001b[39;00m path \u001b[38;5;129;01min\u001b[39;00m paths:\n",
      "File \u001b[0;32m~/miniconda3/envs/epfl/lib/python3.12/site-packages/networkx/algorithms/simple_paths.py:256\u001b[0m, in \u001b[0;36mall_simple_paths\u001b[0;34m(G, source, target, cutoff)\u001b[0m\n\u001b[1;32m     94\u001b[0m \u001b[38;5;129m@nx\u001b[39m\u001b[38;5;241m.\u001b[39m_dispatchable\n\u001b[1;32m     95\u001b[0m \u001b[38;5;28;01mdef\u001b[39;00m \u001b[38;5;21mall_simple_paths\u001b[39m(G, source, target, cutoff\u001b[38;5;241m=\u001b[39m\u001b[38;5;28;01mNone\u001b[39;00m):\n\u001b[1;32m     96\u001b[0m \u001b[38;5;250m    \u001b[39m\u001b[38;5;124;03m\"\"\"Generate all simple paths in the graph G from source to target.\u001b[39;00m\n\u001b[1;32m     97\u001b[0m \n\u001b[1;32m     98\u001b[0m \u001b[38;5;124;03m    A simple path is a path with no repeated nodes.\u001b[39;00m\n\u001b[0;32m   (...)\u001b[0m\n\u001b[1;32m    254\u001b[0m \n\u001b[1;32m    255\u001b[0m \u001b[38;5;124;03m    \"\"\"\u001b[39;00m\n\u001b[0;32m--> 256\u001b[0m \u001b[43m    \u001b[49m\u001b[38;5;28;43;01mfor\u001b[39;49;00m\u001b[43m \u001b[49m\u001b[43medge_path\u001b[49m\u001b[43m \u001b[49m\u001b[38;5;129;43;01min\u001b[39;49;00m\u001b[43m \u001b[49m\u001b[43mall_simple_edge_paths\u001b[49m\u001b[43m(\u001b[49m\u001b[43mG\u001b[49m\u001b[43m,\u001b[49m\u001b[43m \u001b[49m\u001b[43msource\u001b[49m\u001b[43m,\u001b[49m\u001b[43m \u001b[49m\u001b[43mtarget\u001b[49m\u001b[43m,\u001b[49m\u001b[43m \u001b[49m\u001b[43mcutoff\u001b[49m\u001b[43m)\u001b[49m\u001b[43m:\u001b[49m\n\u001b[1;32m    257\u001b[0m \u001b[43m        \u001b[49m\u001b[38;5;28;43;01myield\u001b[39;49;00m\u001b[43m \u001b[49m\u001b[43m[\u001b[49m\u001b[43msource\u001b[49m\u001b[43m]\u001b[49m\u001b[43m \u001b[49m\u001b[38;5;241;43m+\u001b[39;49m\u001b[43m \u001b[49m\u001b[43m[\u001b[49m\u001b[43medge\u001b[49m\u001b[43m[\u001b[49m\u001b[38;5;241;43m1\u001b[39;49m\u001b[43m]\u001b[49m\u001b[43m \u001b[49m\u001b[38;5;28;43;01mfor\u001b[39;49;00m\u001b[43m \u001b[49m\u001b[43medge\u001b[49m\u001b[43m \u001b[49m\u001b[38;5;129;43;01min\u001b[39;49;00m\u001b[43m \u001b[49m\u001b[43medge_path\u001b[49m\u001b[43m]\u001b[49m\n",
      "File \u001b[0;32m~/miniconda3/envs/epfl/lib/python3.12/site-packages/networkx/algorithms/simple_paths.py:359\u001b[0m, in \u001b[0;36mall_simple_edge_paths\u001b[0;34m(G, source, target, cutoff)\u001b[0m\n\u001b[1;32m    356\u001b[0m cutoff \u001b[38;5;241m=\u001b[39m cutoff \u001b[38;5;28;01mif\u001b[39;00m cutoff \u001b[38;5;129;01mis\u001b[39;00m \u001b[38;5;129;01mnot\u001b[39;00m \u001b[38;5;28;01mNone\u001b[39;00m \u001b[38;5;28;01melse\u001b[39;00m \u001b[38;5;28mlen\u001b[39m(G) \u001b[38;5;241m-\u001b[39m \u001b[38;5;241m1\u001b[39m\n\u001b[1;32m    358\u001b[0m \u001b[38;5;28;01mif\u001b[39;00m cutoff \u001b[38;5;241m>\u001b[39m\u001b[38;5;241m=\u001b[39m \u001b[38;5;241m0\u001b[39m \u001b[38;5;129;01mand\u001b[39;00m targets:\n\u001b[0;32m--> 359\u001b[0m     \u001b[38;5;28;01myield from\u001b[39;00m _all_simple_edge_paths(G, source, targets, cutoff)\n",
      "File \u001b[0;32m~/miniconda3/envs/epfl/lib/python3.12/site-packages/networkx/algorithms/simple_paths.py:401\u001b[0m, in \u001b[0;36m_all_simple_edge_paths\u001b[0;34m(G, source, targets, cutoff)\u001b[0m\n\u001b[1;32m    397\u001b[0m \u001b[38;5;28;01mif\u001b[39;00m \u001b[38;5;28mlen\u001b[39m(current_path) \u001b[38;5;241m-\u001b[39m \u001b[38;5;241m1\u001b[39m \u001b[38;5;241m<\u001b[39m cutoff \u001b[38;5;129;01mand\u001b[39;00m (\n\u001b[1;32m    398\u001b[0m     targets \u001b[38;5;241m-\u001b[39m current_path\u001b[38;5;241m.\u001b[39mkeys() \u001b[38;5;241m-\u001b[39m {next_node}\n\u001b[1;32m    399\u001b[0m ):\n\u001b[1;32m    400\u001b[0m     current_path[next_node] \u001b[38;5;241m=\u001b[39m next_edge\n\u001b[0;32m--> 401\u001b[0m     stack\u001b[38;5;241m.\u001b[39mappend(\u001b[38;5;28miter\u001b[39m(\u001b[43mget_edges\u001b[49m\u001b[43m(\u001b[49m\u001b[43mnext_node\u001b[49m\u001b[43m)\u001b[49m))\n",
      "File \u001b[0;32m~/miniconda3/envs/epfl/lib/python3.12/site-packages/networkx/algorithms/simple_paths.py:373\u001b[0m, in \u001b[0;36m_all_simple_edge_paths.<locals>.<lambda>\u001b[0;34m(node)\u001b[0m\n\u001b[1;32m    362\u001b[0m \u001b[38;5;28;01mdef\u001b[39;00m \u001b[38;5;21m_all_simple_edge_paths\u001b[39m(G, source, targets, cutoff):\n\u001b[1;32m    363\u001b[0m     \u001b[38;5;66;03m# We simulate recursion with a stack, keeping the current path being explored\u001b[39;00m\n\u001b[1;32m    364\u001b[0m     \u001b[38;5;66;03m# and the outgoing edge iterators at each point in the stack.\u001b[39;00m\n\u001b[0;32m   (...)\u001b[0m\n\u001b[1;32m    367\u001b[0m     \u001b[38;5;66;03m# We bootstrap the search by adding a dummy iterator to the stack that only yields\u001b[39;00m\n\u001b[1;32m    368\u001b[0m     \u001b[38;5;66;03m# a dummy edge to source (so that the trivial path has a chance of being included).\u001b[39;00m\n\u001b[1;32m    370\u001b[0m     get_edges \u001b[38;5;241m=\u001b[39m (\n\u001b[1;32m    371\u001b[0m         (\u001b[38;5;28;01mlambda\u001b[39;00m node: G\u001b[38;5;241m.\u001b[39medges(node, keys\u001b[38;5;241m=\u001b[39m\u001b[38;5;28;01mTrue\u001b[39;00m))\n\u001b[1;32m    372\u001b[0m         \u001b[38;5;28;01mif\u001b[39;00m G\u001b[38;5;241m.\u001b[39mis_multigraph()\n\u001b[0;32m--> 373\u001b[0m         \u001b[38;5;28;01melse\u001b[39;00m (\u001b[38;5;28;01mlambda\u001b[39;00m node: G\u001b[38;5;241m.\u001b[39medges(node))\n\u001b[1;32m    374\u001b[0m     )\n\u001b[1;32m    376\u001b[0m     \u001b[38;5;66;03m# The current_path is a dictionary that maps nodes in the path to the edge that was\u001b[39;00m\n\u001b[1;32m    377\u001b[0m     \u001b[38;5;66;03m# used to enter that node (instead of a list of edges) because we want both a fast\u001b[39;00m\n\u001b[1;32m    378\u001b[0m     \u001b[38;5;66;03m# membership test for nodes in the path and the preservation of insertion order.\u001b[39;00m\n\u001b[1;32m    379\u001b[0m     current_path \u001b[38;5;241m=\u001b[39m {\u001b[38;5;28;01mNone\u001b[39;00m: \u001b[38;5;28;01mNone\u001b[39;00m}\n",
      "\u001b[0;31mKeyboardInterrupt\u001b[0m: "
     ]
    }
   ],
   "source": [
    "phrase = \"Italy\"\n",
    "k = 2\n",
    "max_depth = 12\n",
    "G = phrase_graph(phrase, k, max_depth)"
   ]
  },
  {
   "cell_type": "code",
   "execution_count": null,
   "metadata": {},
   "outputs": [],
   "source": [
    "def arc_hierarchical_layout(G, subset_key=\"depth\", initial_radius=100, radius_growth_factor=1.5, arc_angle=np.pi/4):\n",
    "    pos = {}\n",
    "    layers = {}\n",
    "    for node in G.nodes():\n",
    "        depth = G.nodes[node][subset_key]\n",
    "        if depth not in layers:\n",
    "            layers[depth] = []\n",
    "        layers[depth].append(node)\n",
    "    \n",
    "    max_depth = max(layers.keys())\n",
    "    for depth, nodes in layers.items():\n",
    "        radius = initial_radius * (radius_growth_factor ** depth)\n",
    "        angle_step = arc_angle / (len(nodes) - 1) if len(nodes) > 1 else 0\n",
    "        start_angle = np.pi/2  # Start from the top\n",
    "        for i, node in enumerate(nodes):\n",
    "            angle = start_angle - i * angle_step\n",
    "            x = radius * np.cos(angle)\n",
    "            y = -radius * np.sin(angle)  # Negative to expand downward\n",
    "            pos[node] = np.array([x, y])\n",
    "    \n",
    "    return pos\n",
    "\n",
    "# Apply the arc hierarchical layout with tunable radius growth factor\n",
    "pos = arc_hierarchical_layout(G, subset_key=\"depth\", initial_radius=100, radius_growth_factor=1.5, arc_angle=np.pi/2)\n",
    "for node, position in pos.items():\n",
    "    G.nodes[node]['pos'] = position"
   ]
  },
  {
   "cell_type": "code",
   "execution_count": null,
   "metadata": {},
   "outputs": [],
   "source": [
    "import networkx as nx\n",
    "import plotly.graph_objects as go\n",
    "from ipywidgets import widgets\n",
    "\n",
    "seed_node = (phrase, 0)\n",
    "# Assume G is your graph and phrase is defined\n",
    "\n",
    "# Create a dictionary to store all paths from each depth 5 node to the seed\n",
    "all_paths_to_seed = {node: list(nx.all_simple_paths(G, seed_node, node)) for node in G.nodes() if G.nodes[node]['depth'] == max_depth}\n",
    "\n",
    "# Create edge traces for the graph structure\n",
    "edge_x, edge_y = [], []\n",
    "for edge in G.edges():\n",
    "    x0, y0 = G.nodes[edge[0]]['pos']\n",
    "    x1, y1 = G.nodes[edge[1]]['pos']\n",
    "    edge_x.extend([x0, x1, None])\n",
    "    edge_y.extend([y0, y1, None])\n",
    "\n",
    "edge_trace = go.Scatter(x=edge_x, y=edge_y, line=dict(width=0.5, color='#888'),\n",
    "                        hoverinfo='none', mode='lines')\n",
    "\n",
    "# Create node trace\n",
    "node_x, node_y, node_text = [], [], []\n",
    "for node in G.nodes():\n",
    "    x, y = G.nodes[node]['pos']\n",
    "    node_x.append(x)\n",
    "    node_y.append(y)\n",
    "    node_text.append(f\"{node[0]} (Depth: {G.nodes[node]['depth']})\")\n",
    "\n",
    "node_trace = go.Scatter(\n",
    "    x=node_x, y=node_y,\n",
    "    mode='markers',\n",
    "    hoverinfo='text',\n",
    "    text=node_text,\n",
    "    marker=dict(\n",
    "        showscale=True,\n",
    "        colorscale='YlGnBu',\n",
    "        reversescale=True,\n",
    "        color=[G.nodes[node]['depth'] for node in G.nodes()],\n",
    "        size=10,\n",
    "        colorbar=dict(thickness=15, title='Node Depth', xanchor='left', titleside='right'),\n",
    "        line_width=2\n",
    "    )\n",
    ")\n",
    "\n",
    "# Create figure\n",
    "fig = go.FigureWidget(data=tuple([edge_trace, node_trace]),\n",
    "                layout=go.Layout(\n",
    "                    showlegend=False,\n",
    "                    hovermode='closest',\n",
    "                    margin=dict(b=20,l=5,r=5,t=40),\n",
    "                    xaxis=dict(showgrid=False, zeroline=False, showticklabels=False),\n",
    "                    yaxis=dict(showgrid=False, zeroline=False, showticklabels=False),\n",
    "                    width=1000,\n",
    "                    height=1000\n",
    "                ))\n",
    "\n",
    "# Create a widget to display clicked node info\n",
    "click_info = widgets.Label(value=\"Click a depth 5 node to highlight paths\")"
   ]
  },
  {
   "cell_type": "code",
   "execution_count": null,
   "metadata": {},
   "outputs": [
    {
     "data": {
      "application/vnd.jupyter.widget-view+json": {
       "model_id": "29783bf2f25d4467b003a92119008d48",
       "version_major": 2,
       "version_minor": 0
      },
      "text/plain": [
       "VBox(children=(FigureWidget({\n",
       "    'data': [{'hoverinfo': 'none',\n",
       "              'line': {'color': '#888', 'widt…"
      ]
     },
     "metadata": {},
     "output_type": "display_data"
    }
   ],
   "source": [
    "from ipywidgets import Button, VBox, HBox\n",
    "\n",
    "def custom_click_handler(trace, points, selector):\n",
    "    if not points.point_inds:\n",
    "        click_info.value = \"No point selected\"\n",
    "        return\n",
    "\n",
    "    try:\n",
    "        clicked_index = points.point_inds[0]\n",
    "        all_nodes = list(G.nodes())\n",
    "        \n",
    "        clicked_node = all_nodes[clicked_index]\n",
    "        node_depth = G.nodes[clicked_node]['depth']\n",
    "        \n",
    "        click_info.value = f\"Clicked node: {clicked_node[0]} (Depth: {node_depth})\"    \n",
    "\n",
    "        with fig.batch_update():\n",
    "            fig.update_traces(visible=False, selector=dict(name='path'), overwrite=True)\n",
    "\n",
    "        with fig.batch_update():\n",
    "            # Hide all path traces\n",
    "          \n",
    "            if node_depth == max_depth:\n",
    "                paths = all_paths_to_seed.get(clicked_node, [])\n",
    "                phrases = G.nodes[clicked_node][\"phrase\"]\n",
    "                num_paths = len(paths)\n",
    "                click_info.value += f\" - Found {num_paths} path{'s' if num_paths != 1 else ''}\"\n",
    "                # print(f\"\"\"\\n{\"\\n\".join(phrases)}\"\"\" if isinstance(phrases, list) else phrases)\n",
    "                \n",
    "                # Highlight new paths\n",
    "                for i, path in enumerate(paths):\n",
    "                    x = [G.nodes[n]['pos'][0] for n in path]\n",
    "                    y = [G.nodes[n]['pos'][1] for n in path]\n",
    "                    fig.add_trace(go.Scatter(x=x, y=y, mode='lines', line=dict(color='red', width=2),\n",
    "                                             hoverinfo='none', name='path',\n",
    "                                             showlegend=False))\n",
    "            else:\n",
    "                click_info.value += f\" - Not a depth {max_depth} node, no paths to highlight\"\n",
    "\n",
    "    except Exception as e:\n",
    "        click_info.value = f\"An unexpected error occurred: {type(e).__name__}: {str(e)}\"\n",
    "\n",
    "def reset_plot(b):\n",
    "    with fig.batch_update():\n",
    "        # Hide all path traces\n",
    "        fig.update_traces(visible=False, selector=dict(name='path'))\n",
    "    click_info.value = \"Plot reset to initial state\"\n",
    "\n",
    "reset_button = Button(description=\"Reset Plot\")\n",
    "reset_button.on_click(reset_plot)\n",
    "\n",
    "# Attach the custom click event handler\n",
    "fig.data[1].on_click(custom_click_handler)\n",
    "button_info_box = HBox([reset_button, click_info])\n",
    "\n",
    "display(widgets.VBox([fig, button_info_box]))"
   ]
  }
 ],
 "metadata": {
  "kernelspec": {
   "display_name": "epfl",
   "language": "python",
   "name": "python3"
  },
  "language_info": {
   "codemirror_mode": {
    "name": "ipython",
    "version": 3
   },
   "file_extension": ".py",
   "mimetype": "text/x-python",
   "name": "python",
   "nbconvert_exporter": "python",
   "pygments_lexer": "ipython3",
   "version": "3.12.2"
  }
 },
 "nbformat": 4,
 "nbformat_minor": 2
}
